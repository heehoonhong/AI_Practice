{
  "nbformat": 4,
  "nbformat_minor": 0,
  "metadata": {
    "colab": {
      "provenance": [],
      "gpuType": "T4",
      "authorship_tag": "ABX9TyNhSz3ETvnSJ/x7jttY0bQl",
      "include_colab_link": true
    },
    "kernelspec": {
      "name": "python3",
      "display_name": "Python 3"
    },
    "language_info": {
      "name": "python"
    },
    "accelerator": "GPU"
  },
  "cells": [
    {
      "cell_type": "markdown",
      "metadata": {
        "id": "view-in-github",
        "colab_type": "text"
      },
      "source": [
        "<a href=\"https://colab.research.google.com/github/heehoonhong/AI_Practice/blob/main/CNN.ipynb\" target=\"_parent\"><img src=\"https://colab.research.google.com/assets/colab-badge.svg\" alt=\"Open In Colab\"/></a>"
      ]
    },
    {
      "cell_type": "markdown",
      "source": [],
      "metadata": {
        "id": "LKojtw29XKFk"
      }
    },
    {
      "cell_type": "code",
      "execution_count": 1,
      "metadata": {
        "id": "PLWpQHZAXHB_"
      },
      "outputs": [],
      "source": [
        "#cnn은 합성곱 연산과 풀링(pooling)을 통해 공간적 패턴과 중요한 특징을 자동으로 학습\n",
        "\n",
        "# 합성곱 계층, 풀링 계층, 완전 연결 계층으로 구성되어 있음"
      ]
    },
    {
      "cell_type": "code",
      "source": [
        "import numpy as np"
      ],
      "metadata": {
        "id": "NTqYVHFUXcff"
      },
      "execution_count": 5,
      "outputs": []
    },
    {
      "cell_type": "code",
      "source": [
        "def conv2d(input,kernel,stride=1,padding=0):\n",
        "  #입력에 패딩 추가\n",
        "  input_padded=np.pad(input,((padding,padding),(padding,padding)),mode='constant')\n",
        "\n",
        "  #출력 크기 계산\n",
        "  output_height=(input.shape[0]-kernel.shape[0]+2*padding)//stride+1\n",
        "  output_width=(input.shape[1]-kernel.shape[1]+2*padding)//stride+1\n",
        "  output=np.zeros((output_height,output_width))\n",
        "\n",
        "  #합성곱 연산\n",
        "  for i in range(0,output_height):\n",
        "    for j in range(0,output_width):\n",
        "      region=input_padded[i*stride:i*stride+kernel.shape[0],j*stride:j*stride+kernel.shape[1]]\n",
        "      output[i,j]=np.sum(region*kernel)\n",
        "  return output\n",
        "\n",
        "#테스트\n",
        "input_image=np.random.rand(5,5) # 5x5 입력 이미지\n",
        "kernel=np.array([[1,0,-1],[1,0,-1],[1,0,-1]]) # 간단한 엣지 필터\n",
        "output=conv2d(input_image,kernel,stride=1,padding=1)\n",
        "print(output)"
      ],
      "metadata": {
        "colab": {
          "base_uri": "https://localhost:8080/"
        },
        "id": "KF1PqXZwXfZI",
        "outputId": "106e3061-42e1-4f2c-aa69-202b12debac1"
      },
      "execution_count": 6,
      "outputs": [
        {
          "output_type": "stream",
          "name": "stdout",
          "text": [
            "[[-0.784764    0.3958237  -0.71597112  0.08463873  1.50073512]\n",
            " [-1.7531722   0.43752148 -0.63595604  0.14083004  2.38912824]\n",
            " [-2.16907627  0.24276323  0.02953273  0.16022205  2.13954354]\n",
            " [-1.76311255  0.27894732  0.12049321  0.14855434  1.64261934]\n",
            " [-0.79470435  0.23724955  0.04047813  0.09236303  0.75422621]]\n"
          ]
        }
      ]
    },
    {
      "cell_type": "code",
      "source": [
        "import torch\n",
        "import torch.nn as nn\n",
        "\n",
        "# 입력 이미지( 1 x 3 x 32 x 32 크기의 텐서: Batch, Channel, Height, Width)\n",
        "x=torch.rand(1,3,32,32) # 예: RGB 이미지\n",
        "\n",
        "# 합성곱 계층 정의(3채널 입력, 16개 필터, 커널 크기 3 x 3)\n",
        "conv=nn.Conv2d(in_channels=3,out_channels=16,kernel_size=3,stride=1,padding=1)\n",
        "\n",
        "# 합성곱 연산 실행\n",
        "out=conv(x)\n",
        "print(out.shape) # 출럭 텐서 크기: [1, 16, 32, 32]"
      ],
      "metadata": {
        "colab": {
          "base_uri": "https://localhost:8080/"
        },
        "id": "gdFRZq-6Ypjt",
        "outputId": "19c2e31a-0e78-4931-f81d-10f3be96e4a2"
      },
      "execution_count": 7,
      "outputs": [
        {
          "output_type": "stream",
          "name": "stdout",
          "text": [
            "torch.Size([1, 16, 32, 32])\n"
          ]
        }
      ]
    },
    {
      "cell_type": "markdown",
      "source": [
        "Linear Layer와의 비교"
      ],
      "metadata": {
        "id": "v_9fj7FZZxoY"
      }
    },
    {
      "cell_type": "code",
      "source": [
        "import torch\n",
        "import torch.nn as nn\n",
        "\n",
        "# 1. Linear Lyaer 정의(입력 차원: 4, 출력 차원: 2)\n",
        "linear=nn.Linear(in_features=4,out_features=2,bias=True)\n",
        "\n",
        "# 2. 랜덤 입력 텐서 생성(배치 크기: 3, 입력 차원: 4)\n",
        "x=torch.rand(3,4) # 예: 배치 크기 3인 입력 데이터\n",
        "\n",
        "# 3. 순전파 실행(Linear Lyaer 통과)\n",
        "output=linear(x)\n",
        "\n",
        "print(\"입력: \",x.shape)\n",
        "print(\"출력: \",output.shape)\n",
        "print(\"가중치: \",linear.weight)\n",
        "print(\"편향: \",linear.bias)\n",
        "\n"
      ],
      "metadata": {
        "colab": {
          "base_uri": "https://localhost:8080/"
        },
        "id": "GGGyu0P1Zvyf",
        "outputId": "4ffb139c-f325-439b-8679-1dec276418bf"
      },
      "execution_count": 8,
      "outputs": [
        {
          "output_type": "stream",
          "name": "stdout",
          "text": [
            "입력:  torch.Size([3, 4])\n",
            "출력:  torch.Size([3, 2])\n",
            "가중치:  Parameter containing:\n",
            "tensor([[-0.4596,  0.3786, -0.2540,  0.2250],\n",
            "        [-0.4837, -0.3340, -0.2186,  0.4734]], requires_grad=True)\n",
            "편향:  Parameter containing:\n",
            "tensor([-0.3504,  0.3602], requires_grad=True)\n"
          ]
        }
      ]
    },
    {
      "cell_type": "code",
      "source": [
        "# Pooling Lyaer는 CNN에서 특징 맵(feature map)의 크기를 줄이고, 중요한 정보만 남기기 위해 사용되는 계층이다.\n",
        "# 이 과정은 연산량을 줄이고, 모델이 과적합되지 않도록 돕습니다."
      ],
      "metadata": {
        "id": "2asqrrN8egIP"
      },
      "execution_count": 7,
      "outputs": []
    },
    {
      "cell_type": "code",
      "source": [
        "def max_pool2d(input,size=2,stride=2):\n",
        "  output_height=(input.shape[0]-size)//stride+1\n",
        "  output_width=(input.shape[1]-size)//stride+1\n",
        "  output=np.zeros((output_height,output_width))\n",
        "\n",
        "  for i in range(output_height):\n",
        "    for j in range(output_width):\n",
        "      region=input[i*stride:i*stride+size,j*stride:j*stride+size]\n",
        "      output[i,j]=np.max(region)\n",
        "  return output\n",
        "\n",
        "# 테스트\n",
        "input_image=np.random.rand(4,4) # 4 x 4 입력 이미지\n",
        "output=max_pool2d(input_image,size=2,stride=2)\n",
        "print(input_image)\n",
        "print(\"======================\")\n",
        "print(output)"
      ],
      "metadata": {
        "colab": {
          "base_uri": "https://localhost:8080/"
        },
        "id": "fawkTddCesOQ",
        "outputId": "687d034e-35e4-47b1-d49d-1bf6c7031334"
      },
      "execution_count": 9,
      "outputs": [
        {
          "output_type": "stream",
          "name": "stdout",
          "text": [
            "[[0.44644633 0.21674695 0.48649908 0.92846502]\n",
            " [0.28810645 0.18702138 0.96392878 0.53206147]\n",
            " [0.75913546 0.32586434 0.82042485 0.49389504]\n",
            " [0.95618674 0.42218473 0.83185972 0.95255454]]\n",
            "======================\n",
            "[[0.44644633 0.96392878]\n",
            " [0.95618674 0.95255454]]\n"
          ]
        }
      ]
    },
    {
      "cell_type": "code",
      "source": [
        "def min_pool2d(input,size=2,stride=2):\n",
        "  output_height=(input.shape[0]-size)//stride+1\n",
        "  output_width=(input.shape[1]-size)//stride+1\n",
        "  output=np.zeros((output_height,output_width))\n",
        "\n",
        "  for i in range(output_height):\n",
        "    for j in range(output_width):\n",
        "      region=input[i*stride:i*stride+size,j*stride:j*stride+size]\n",
        "      output[i,j]=np.min(region)\n",
        "  return output\n",
        "\n",
        "# 테스트\n",
        "input_image=np.random.rand(4,4) # 4 x 4 입력 이미지\n",
        "output=min_pool2d(input_image,size=2,stride=2)\n",
        "print(input_image)\n",
        "print(\"======================\")\n",
        "print(output)"
      ],
      "metadata": {
        "colab": {
          "base_uri": "https://localhost:8080/"
        },
        "id": "0F9hChSNfXXy",
        "outputId": "004406dc-daa3-4ca4-c651-0745df4e1f7d"
      },
      "execution_count": 10,
      "outputs": [
        {
          "output_type": "stream",
          "name": "stdout",
          "text": [
            "[[0.07338165 0.09667332 0.7868813  0.25923336]\n",
            " [0.75839494 0.43999021 0.34887283 0.94262524]\n",
            " [0.43484634 0.03593175 0.35553317 0.41521635]\n",
            " [0.57142519 0.97973076 0.78202506 0.64993094]]\n",
            "======================\n",
            "[[0.07338165 0.25923336]\n",
            " [0.03593175 0.35553317]]\n"
          ]
        }
      ]
    },
    {
      "cell_type": "code",
      "source": [
        "def avg_pool2d(input,size=2,stride=2):\n",
        "  output_height=(input.shape[0]-size)//stride+1\n",
        "  output_width=(input.shape[1]-size)//stride+1\n",
        "  output=np.zeros((output_height,output_width))\n",
        "\n",
        "  for i in range(output_height):\n",
        "    for j in range(output_width):\n",
        "      region=input[i*stride:i*stride+size,j*stride:j*stride+size]\n",
        "      output[i,j]=np.mean(region)\n",
        "  return output\n",
        "\n",
        "# 테스트\n",
        "input_image=np.random.rand(4,4) # 4 x 4 입력 이미지\n",
        "output=avg_pool2d(input_image,size=2,stride=2)\n",
        "print(input_image)\n",
        "print(\"======================\")\n",
        "print(output)"
      ],
      "metadata": {
        "colab": {
          "base_uri": "https://localhost:8080/"
        },
        "id": "VgSyAU_RfcYB",
        "outputId": "56fc0203-3a46-4b7f-d2c6-63a3e3fea94a"
      },
      "execution_count": 11,
      "outputs": [
        {
          "output_type": "stream",
          "name": "stdout",
          "text": [
            "[[0.41414445 0.93495348 0.41918754 0.60864559]\n",
            " [0.12980694 0.11773106 0.73813193 0.27060868]\n",
            " [0.4995836  0.7255902  0.67647628 0.35526897]\n",
            " [0.69684195 0.2404517  0.83662732 0.90181552]]\n",
            "======================\n",
            "[[0.39915899 0.50914344]\n",
            " [0.54061686 0.69254702]]\n"
          ]
        }
      ]
    },
    {
      "cell_type": "code",
      "source": [
        "x=torch.rand(1,3,32,32)\n",
        "\n",
        "conv=nn.Conv2d(in_channels=3,out_channels=16,kernel_size=3,stride=1,padding=1)\n",
        "pool=nn.MaxPool2d(kernel_size=2,stride=2)\n",
        "\n",
        "out=conv(x)\n",
        "out_pool=pool(out)\n",
        "\n",
        "print(out.shape)\n",
        "print(out_pool.shape) # 출력 텐서 크기: [1, 16, 16, 16]"
      ],
      "metadata": {
        "colab": {
          "base_uri": "https://localhost:8080/"
        },
        "id": "FHAHnNLffodC",
        "outputId": "ada356d5-09b5-4059-fe8d-26ce824a18dd"
      },
      "execution_count": 12,
      "outputs": [
        {
          "output_type": "stream",
          "name": "stdout",
          "text": [
            "torch.Size([1, 16, 32, 32])\n",
            "torch.Size([1, 16, 16, 16])\n"
          ]
        }
      ]
    },
    {
      "cell_type": "code",
      "source": [
        "# FC layer\n",
        "# 완전 연결 계층은 신경망에서 모든 입력 뉴런이 모든 출력 뉴런과 연결된 계층\n",
        "# 주로 CNN의 마지막 단계에서 사용되어, 최종 분류 또는 예측을 수행한다."
      ],
      "metadata": {
        "id": "foYKaDBVf8CP"
      },
      "execution_count": 13,
      "outputs": []
    },
    {
      "cell_type": "code",
      "source": [
        "def fully_connected(x,weights,bias):\n",
        "  return np.dot(x,weights)+bias\n",
        "\n",
        "#테스트\n",
        "input_vector=np.array([1,2,3]) # 입력 벡터\n",
        "weigths=np.array([[0.1,0.2],[0.3,0.4],[0.5,0.6]]) # 가중치 행렬 (3x2)\n",
        "bias=np.array([0.1,0.2]) # 편향 벡터(2차원)\n",
        "output=fully_connected(input_vector,weigths,bias)\n",
        "print(input_vector.shape)\n",
        "print(output.shape)"
      ],
      "metadata": {
        "colab": {
          "base_uri": "https://localhost:8080/"
        },
        "id": "PQCb4mkugXCH",
        "outputId": "f4180f8e-3fb1-4771-e460-9423111becb6"
      },
      "execution_count": 13,
      "outputs": [
        {
          "output_type": "stream",
          "name": "stdout",
          "text": [
            "(3,)\n",
            "(2,)\n"
          ]
        }
      ]
    },
    {
      "cell_type": "code",
      "source": [
        "x=torch.rand(1,3,32,32)\n",
        "conv=nn.Conv2d(in_channels=3,out_channels=16,kernel_size=3,stride=1,padding=1)\n",
        "pool=nn.MaxPool2d(kernel_size=2,stride=2)\n",
        "\n",
        "out=conv(x)\n",
        "out_pool=pool(out)\n",
        "\n",
        "print(out.shape)\n",
        "print(out_pool.shape)\n",
        "\n",
        "# 특징 맵을 Flatten ( 16 x 16x 16 -> 4096 )하여 완전 연결 계층에 전달\n",
        "out_flat = out_pool.view(out_pool.size(0), -1) # Flatten\n",
        "print(out_flat.shape)\n",
        "\n",
        "# 완전 연결 계층 정의\n",
        "fc=nn.Linear(4096,10)\n",
        "out_fc=fc(out_flat)\n",
        "print(out_fc.shape)\n",
        "print(out_fc)"
      ],
      "metadata": {
        "colab": {
          "base_uri": "https://localhost:8080/"
        },
        "id": "4IsepA00g5d_",
        "outputId": "852bc59a-eedc-4888-c331-21ebc444da91"
      },
      "execution_count": 14,
      "outputs": [
        {
          "output_type": "stream",
          "name": "stdout",
          "text": [
            "torch.Size([1, 16, 32, 32])\n",
            "torch.Size([1, 16, 16, 16])\n",
            "torch.Size([1, 4096])\n",
            "torch.Size([1, 10])\n",
            "tensor([[ 0.4223,  0.2079,  0.2658,  0.0329,  0.1111, -0.1814, -0.4393, -0.0249,\n",
            "         -0.0292,  0.1118]], grad_fn=<AddmmBackward0>)\n"
          ]
        }
      ]
    },
    {
      "cell_type": "code",
      "source": [
        "class SimpleCNN(nn.Module):\n",
        "  def __init__(self):\n",
        "    super(SimpleCNN,self).__init__()\n",
        "    self.conv1=nn.Conv2d(3,16,3,padding=1)\n",
        "    self.pool=nn.MaxPool2d(2,2)\n",
        "    self.conv2=nn.Conv2d(16,32,3,padding=1)\n",
        "    self.fc1=nn.Linear(32*8*8,128) # CIFAR-10 크기\n",
        "    self.fc2=nn.Linear(128,10) # 10개의 클래스\n",
        "\n",
        "  def forward(self,x):\n",
        "    x=self.pool(torch.relu(self.conv1(x)))\n",
        "    x=self.pool(torch.relu(self.conv2(x)))\n",
        "    x=x.view(-1,32*8*8)\n",
        "    x=torch.relu(self.fc1(x))\n",
        "    x=self.fc2(x)\n",
        "    return x\n",
        "\n",
        "model=SimpleCNN()\n",
        "\n",
        "inputs=torch.rand(4,3,32,32)\n",
        "\n",
        "outputs=model(inputs)\n",
        "print(outputs.shape) # [4,10]\n",
        ""
      ],
      "metadata": {
        "colab": {
          "base_uri": "https://localhost:8080/"
        },
        "id": "furDqvaXhnrL",
        "outputId": "c4b19f06-1b2c-400e-a72c-df301648e8a1"
      },
      "execution_count": 15,
      "outputs": [
        {
          "output_type": "stream",
          "name": "stdout",
          "text": [
            "torch.Size([4, 10])\n"
          ]
        }
      ]
    },
    {
      "cell_type": "code",
      "source": [
        "class SimpleCNN_detail(nn.Module):\n",
        "    def __init__(self):\n",
        "        super(SimpleCNN_detail, self).__init__()\n",
        "        self.conv1 = nn.Conv2d(3, 16, 3, padding=1)\n",
        "        self.pool = nn.MaxPool2d(2, 2)\n",
        "        self.conv2 = nn.Conv2d(16, 32, 3, padding=1)\n",
        "        self.fc1 = nn.Linear(32 * 8 * 8, 128)  # CIFAR-10 크기 (32x32 입력 → 8x8 출력)\n",
        "        self.fc2 = nn.Linear(128, 10)  # 10개의 클래스\n",
        "\n",
        "    def forward(self, x):\n",
        "        print('input shape : ', x.shape)\n",
        "        x = self.conv1(x)\n",
        "        print('conv output shape : ', x.shape)\n",
        "        x = torch.relu(x)\n",
        "        print('relu output shape : ', x.shape)\n",
        "        x = self.pool(x)\n",
        "        print('pooling output shape : ', x.shape)\n",
        "\n",
        "        x = self.conv2(x)\n",
        "        print('conv output shape : ', x.shape)\n",
        "        x = torch.relu(x)\n",
        "        print('relu output shape : ', x.shape)\n",
        "        x = self.pool(x)\n",
        "        print('pooling output shape : ', x.shape)\n",
        "        x = x.view(-1, 32 * 8 * 8)  # Flatten\n",
        "        print('flatten output shape', x.shape)\n",
        "        x = self.fc1(x)\n",
        "        print('fc output shape', x.shape)\n",
        "        x = torch.relu(x)\n",
        "        x = self.fc2(x)\n",
        "        print('fc output shape', x.shape)\n",
        "        return x\n",
        "\n",
        "# 모델 초기화\n",
        "model = SimpleCNN_detail()\n",
        "\n",
        "# 입력 예시 (Batch size: 4, 3채널, 32x32 이미지)\n",
        "inputs = torch.rand(4, 3, 32, 32)\n",
        "\n",
        "# 모델 실행 (순전파)\n",
        "outputs = model(inputs)\n",
        "print(outputs.shape)  # [4, 10]\n",
        "\n"
      ],
      "metadata": {
        "colab": {
          "base_uri": "https://localhost:8080/"
        },
        "id": "TJ2TWV9vi0jy",
        "outputId": "0d84b60c-0dc8-477f-89c2-90cb3aec4854"
      },
      "execution_count": 16,
      "outputs": [
        {
          "output_type": "stream",
          "name": "stdout",
          "text": [
            "input shape :  torch.Size([4, 3, 32, 32])\n",
            "conv output shape :  torch.Size([4, 16, 32, 32])\n",
            "relu output shape :  torch.Size([4, 16, 32, 32])\n",
            "pooling output shape :  torch.Size([4, 16, 16, 16])\n",
            "conv output shape :  torch.Size([4, 32, 16, 16])\n",
            "relu output shape :  torch.Size([4, 32, 16, 16])\n",
            "pooling output shape :  torch.Size([4, 32, 8, 8])\n",
            "flatten output shape torch.Size([4, 2048])\n",
            "fc output shape torch.Size([4, 128])\n",
            "fc output shape torch.Size([4, 10])\n",
            "torch.Size([4, 10])\n"
          ]
        }
      ]
    },
    {
      "cell_type": "code",
      "source": [
        "import torch\n",
        "import torch.nn as nn\n",
        "import torch.optim as optim\n",
        "import torchvision\n",
        "import torchvision.transforms as transforms"
      ],
      "metadata": {
        "id": "QG3vKN0HjaGe"
      },
      "execution_count": 17,
      "outputs": []
    },
    {
      "cell_type": "code",
      "source": [
        "# CIFAR-10 데이터셋 전처리(이미지를 텐서로 변환하고 정규화)\n",
        "transform=transforms.Compose([\n",
        "    transforms.ToTensor(),\n",
        "    transforms.Normalize((0.5,0.5,0.5),(0.5,0.5,0.5))\n",
        "])\n",
        "\n",
        "# 훈련 및 데이터셋 로드\n",
        "trainset=torchvision.datasets.CIFAR10(\n",
        "    root='./data', train=True, download=True,transform=transform)\n",
        "trainloader=torch.utils.data.DataLoader(trainset,batch_size=32,shuffle=True)\n",
        "\n",
        "testset=torchvision.datasets.CIFAR10(\n",
        "    root='./data', train=False, download=True,transform=transform)\n",
        "testloader=torch.utils.data.DataLoader(testset,batch_size=32,shuffle=False)\n",
        "\n",
        "# 클래스 이름 정의\n",
        "classes=('plane','car','bird','cat','deer','dog','frog','horse','ship','truck')"
      ],
      "metadata": {
        "colab": {
          "base_uri": "https://localhost:8080/"
        },
        "id": "UptR4A20jkkY",
        "outputId": "7d3f45d6-1a25-4ebf-87f2-c2509af1ca88"
      },
      "execution_count": 18,
      "outputs": [
        {
          "output_type": "stream",
          "name": "stdout",
          "text": [
            "Downloading https://www.cs.toronto.edu/~kriz/cifar-10-python.tar.gz to ./data/cifar-10-python.tar.gz\n"
          ]
        },
        {
          "output_type": "stream",
          "name": "stderr",
          "text": [
            "100%|██████████| 170M/170M [00:11<00:00, 14.4MB/s]\n"
          ]
        },
        {
          "output_type": "stream",
          "name": "stdout",
          "text": [
            "Extracting ./data/cifar-10-python.tar.gz to ./data\n",
            "Files already downloaded and verified\n"
          ]
        }
      ]
    },
    {
      "cell_type": "code",
      "source": [
        "class SimpleCNN(nn.Module):\n",
        "  def __init__(self):\n",
        "    super(SimpleCNN,self).__init__()\n",
        "    self.conv1=nn.Conv2d(3,16,3,padding=1)\n",
        "    self.pool=nn.MaxPool2d(2,2)\n",
        "    self.conv2=nn.Conv2d(16,32,3,padding=1)\n",
        "    self.fc1=nn.Linear(32*8*8,64)\n",
        "    self.fc2=nn.Linear(64,10)\n",
        "\n",
        "  def forward(self,x):\n",
        "    x=self.pool(torch.relu(self.conv1(x)))\n",
        "    x=self.pool(torch.relu(self.conv2(x)))\n",
        "    x=x.view(-1,32*8*8)\n",
        "    x=torch.relu(self.fc1(x))\n",
        "    x=self.fc2(x)\n",
        "    return x\n",
        "model=SimpleCNN().cuda()"
      ],
      "metadata": {
        "id": "aPi4AbbCkRsB"
      },
      "execution_count": 20,
      "outputs": []
    },
    {
      "cell_type": "code",
      "source": [
        "criterion=nn.CrossEntropyLoss().cuda()\n",
        "optimizer=optim.SGD(model.parameters(),lr=0.001,momentum=0.9)"
      ],
      "metadata": {
        "id": "yVDw13skldeT"
      },
      "execution_count": 21,
      "outputs": []
    },
    {
      "cell_type": "code",
      "source": [
        "for epoch in range(5):\n",
        "  running_loss=0.0\n",
        "  for i, data in enumerate(trainloader,0):\n",
        "\n",
        "    inputs,labels=data\n",
        "    inputs=inputs.cuda()\n",
        "    labels=labels.cuda()\n",
        "\n",
        "    # 옵티마이저 초기화\n",
        "    optimizer.zero_grad()\n",
        "\n",
        "    # 순전파+ 손실 계산+ 역전파+최적화\n",
        "    outputs=model(inputs)\n",
        "    loss=criterion(outputs,labels)\n",
        "    loss.backward()\n",
        "    optimizer.step()\n",
        "\n",
        "    # 통계 출력t\n",
        "    running_loss+=loss.item()\n",
        "    if i%100==99:\n",
        "      print(f'Epoch {epoch+1}, Batch {i+1}, Loss: {running_loss/100:.3f}')\n",
        "      running_loss=0.0\n",
        "\n",
        "print('Finished Training')"
      ],
      "metadata": {
        "colab": {
          "base_uri": "https://localhost:8080/"
        },
        "id": "nDLOmQuumgNA",
        "outputId": "c36116af-9b0a-44ff-b999-666a2cfc8336"
      },
      "execution_count": 22,
      "outputs": [
        {
          "output_type": "stream",
          "name": "stdout",
          "text": [
            "Epoch 1, Batch 100, Loss: 2.302\n",
            "Epoch 1, Batch 200, Loss: 2.294\n",
            "Epoch 1, Batch 300, Loss: 2.285\n",
            "Epoch 1, Batch 400, Loss: 2.270\n",
            "Epoch 1, Batch 500, Loss: 2.234\n",
            "Epoch 1, Batch 600, Loss: 2.173\n",
            "Epoch 1, Batch 700, Loss: 2.097\n",
            "Epoch 1, Batch 800, Loss: 1.987\n",
            "Epoch 1, Batch 900, Loss: 1.941\n",
            "Epoch 1, Batch 1000, Loss: 1.882\n",
            "Epoch 1, Batch 1100, Loss: 1.862\n",
            "Epoch 1, Batch 1200, Loss: 1.830\n",
            "Epoch 1, Batch 1300, Loss: 1.787\n",
            "Epoch 1, Batch 1400, Loss: 1.759\n",
            "Epoch 1, Batch 1500, Loss: 1.747\n",
            "Epoch 2, Batch 100, Loss: 1.688\n",
            "Epoch 2, Batch 200, Loss: 1.673\n",
            "Epoch 2, Batch 300, Loss: 1.624\n",
            "Epoch 2, Batch 400, Loss: 1.628\n",
            "Epoch 2, Batch 500, Loss: 1.601\n",
            "Epoch 2, Batch 600, Loss: 1.592\n",
            "Epoch 2, Batch 700, Loss: 1.571\n",
            "Epoch 2, Batch 800, Loss: 1.549\n",
            "Epoch 2, Batch 900, Loss: 1.523\n",
            "Epoch 2, Batch 1000, Loss: 1.488\n",
            "Epoch 2, Batch 1100, Loss: 1.497\n",
            "Epoch 2, Batch 1200, Loss: 1.499\n",
            "Epoch 2, Batch 1300, Loss: 1.487\n",
            "Epoch 2, Batch 1400, Loss: 1.452\n",
            "Epoch 2, Batch 1500, Loss: 1.464\n",
            "Epoch 3, Batch 100, Loss: 1.427\n",
            "Epoch 3, Batch 200, Loss: 1.433\n",
            "Epoch 3, Batch 300, Loss: 1.410\n",
            "Epoch 3, Batch 400, Loss: 1.395\n",
            "Epoch 3, Batch 500, Loss: 1.382\n",
            "Epoch 3, Batch 600, Loss: 1.364\n",
            "Epoch 3, Batch 700, Loss: 1.364\n",
            "Epoch 3, Batch 800, Loss: 1.375\n",
            "Epoch 3, Batch 900, Loss: 1.367\n",
            "Epoch 3, Batch 1000, Loss: 1.381\n",
            "Epoch 3, Batch 1100, Loss: 1.340\n",
            "Epoch 3, Batch 1200, Loss: 1.337\n",
            "Epoch 3, Batch 1300, Loss: 1.311\n",
            "Epoch 3, Batch 1400, Loss: 1.326\n",
            "Epoch 3, Batch 1500, Loss: 1.313\n",
            "Epoch 4, Batch 100, Loss: 1.293\n",
            "Epoch 4, Batch 200, Loss: 1.293\n",
            "Epoch 4, Batch 300, Loss: 1.276\n",
            "Epoch 4, Batch 400, Loss: 1.287\n",
            "Epoch 4, Batch 500, Loss: 1.255\n",
            "Epoch 4, Batch 600, Loss: 1.225\n",
            "Epoch 4, Batch 700, Loss: 1.260\n",
            "Epoch 4, Batch 800, Loss: 1.252\n",
            "Epoch 4, Batch 900, Loss: 1.229\n",
            "Epoch 4, Batch 1000, Loss: 1.257\n",
            "Epoch 4, Batch 1100, Loss: 1.241\n",
            "Epoch 4, Batch 1200, Loss: 1.204\n",
            "Epoch 4, Batch 1300, Loss: 1.233\n",
            "Epoch 4, Batch 1400, Loss: 1.234\n",
            "Epoch 4, Batch 1500, Loss: 1.216\n",
            "Epoch 5, Batch 100, Loss: 1.161\n",
            "Epoch 5, Batch 200, Loss: 1.193\n",
            "Epoch 5, Batch 300, Loss: 1.164\n",
            "Epoch 5, Batch 400, Loss: 1.153\n",
            "Epoch 5, Batch 500, Loss: 1.165\n",
            "Epoch 5, Batch 600, Loss: 1.164\n",
            "Epoch 5, Batch 700, Loss: 1.174\n",
            "Epoch 5, Batch 800, Loss: 1.185\n",
            "Epoch 5, Batch 900, Loss: 1.159\n",
            "Epoch 5, Batch 1000, Loss: 1.159\n",
            "Epoch 5, Batch 1100, Loss: 1.137\n",
            "Epoch 5, Batch 1200, Loss: 1.156\n",
            "Epoch 5, Batch 1300, Loss: 1.109\n",
            "Epoch 5, Batch 1400, Loss: 1.163\n",
            "Epoch 5, Batch 1500, Loss: 1.108\n",
            "Finished Training\n"
          ]
        }
      ]
    },
    {
      "cell_type": "code",
      "source": [
        "correct=0\n",
        "total=0\n",
        "\n",
        "# 평가 모드 전환(Gradient 비활성화)\n",
        "model.eval()\n",
        "with torch.no_grad():\n",
        "  for data in testloader:\n",
        "    images, labels=data\n",
        "    images=images.cuda()\n",
        "    labels=labels.cuda()\n",
        "    outputs=model(images)\n",
        "\n",
        "    _,predicted=torch.max(outputs.data,1)\n",
        "    total+=labels.size(0)\n",
        "    correct+=(predicted==labels).sum().item()\n",
        "\n",
        "print(f'Accuracy of teh test dataset: {100*correct/total:.2f}%')"
      ],
      "metadata": {
        "colab": {
          "base_uri": "https://localhost:8080/"
        },
        "id": "pwgUG5KrnJeU",
        "outputId": "f0e721c5-cd56-43ae-d7bf-0c594a6a6cf7"
      },
      "execution_count": 23,
      "outputs": [
        {
          "output_type": "stream",
          "name": "stdout",
          "text": [
            "Accuracy of teh test dataset: 58.51%\n"
          ]
        }
      ]
    },
    {
      "cell_type": "code",
      "source": [
        "import matplotlib.pyplot as plt\n",
        "import numpy as np\n",
        "\n",
        "# 이미지 출력 함수 정의\n",
        "def imshow(img):\n",
        "  img=img/2+0.5 # 정규화 해제\n",
        "  npimg=img.numpy()\n",
        "  plt.imshow(np.transpose(npimg,(1,2,0)))\n",
        "  plt.show()\n",
        "\n",
        "# 테스트 데이터에서 몇 개의 이미지 출력 및 예측\n",
        "dataiter = iter(testloader)\n",
        "images,labels=next(dataiter)\n",
        "\n",
        "# 이미지 출력\n",
        "imshow(torchvision.utils.make_grid(images[:4])) # 4개 이미지 출력\n",
        "print('GroundTruth: ',' '.join(f'{classes[labels[j]]}' for j in range(4)))\n",
        "\n",
        "# 예측 결과 출력\n",
        "outputs=model(images.cuda())\n",
        "_,predicted=torch.max(outputs,1)\n",
        "print('Predicted: ',' '.join(f'{classes[predicted[j]]}' for j in range(4)))"
      ],
      "metadata": {
        "colab": {
          "base_uri": "https://localhost:8080/",
          "height": 229
        },
        "id": "OtvR0b1_tUH9",
        "outputId": "7dc0ff9f-a47f-4b29-8bd4-249b345da9a4"
      },
      "execution_count": 25,
      "outputs": [
        {
          "output_type": "display_data",
          "data": {
            "text/plain": [
              "<Figure size 640x480 with 1 Axes>"
            ],
            "image/png": "[encoded data removed]"
          },
          "metadata": {}
        },
        {
          "output_type": "stream",
          "name": "stdout",
          "text": [
            "GroundTruth:  cat ship ship plane\n",
            "Predicted:  cat car ship ship\n"
          ]
        }
      ]
    },
    {
      "cell_type": "code",
      "source": [
        "# 더 깊은 CNN 모델 구현해보기"
      ],
      "metadata": {
        "id": "TbcIFa47t5It"
      },
      "execution_count": 26,
      "outputs": []
    },
    {
      "cell_type": "code",
      "source": [
        "class DeeperCNN(nn.Module):\n",
        "    def __init__(self):\n",
        "        super(DeeperCNN, self).__init__()\n",
        "\n",
        "        # 첫 번째 합성곱 블록\n",
        "        self.conv1 = nn.Conv2d(3, 32, 3, padding=1)\n",
        "        self.conv2 = nn.Conv2d(32, 32, 3, padding=1)\n",
        "        self.pool1 = nn.MaxPool2d(2, 2)\n",
        "\n",
        "        # 두 번째 합성곱 블록\n",
        "        self.conv3 = nn.Conv2d(32, 64, 3, padding=1)\n",
        "        self.conv4 = nn.Conv2d(64, 64, 3, padding=1)\n",
        "        self.pool2 = nn.MaxPool2d(2, 2)\n",
        "\n",
        "        # 세 번째 합성곱 블록\n",
        "        self.conv5 = nn.Conv2d(64, 128, 3, padding=1)\n",
        "        self.conv6 = nn.Conv2d(128, 128, 3, padding=1)\n",
        "        self.pool3 = nn.MaxPool2d(2, 2)\n",
        "\n",
        "        # 완전 연결 계층\n",
        "        self.fc1 = nn.Linear(128 * 4 * 4, 256)\n",
        "        self.fc2 = nn.Linear(256, 128)\n",
        "        self.fc3 = nn.Linear(128, 10)\n",
        "\n",
        "        # 드롭아웃 (과적합 방지)\n",
        "        # self.dropout = nn.Dropout(0.5)\n",
        "\n",
        "    def forward(self, x):\n",
        "        # 첫 번째 블록: Conv -> Conv -> MaxPool\n",
        "        x = torch.relu(self.conv1(x))\n",
        "        x = torch.relu(self.conv2(x))\n",
        "        x = self.pool1(x)\n",
        "\n",
        "        # 두 번째 블록: Conv -> Conv -> MaxPool\n",
        "        x = torch.relu(self.conv3(x))\n",
        "        x = torch.relu(self.conv4(x))\n",
        "        x = self.pool2(x)\n",
        "\n",
        "        # 세 번째 블록: Conv -> Conv -> MaxPool\n",
        "        x = torch.relu(self.conv5(x))\n",
        "        x = torch.relu(self.conv6(x))\n",
        "        x = self.pool3(x)\n",
        "\n",
        "        # Flatten\n",
        "        x = x.view(-1, 128 * 4 * 4)\n",
        "\n",
        "        # Fully Connected Layers\n",
        "        x = torch.relu(self.fc1(x))\n",
        "        # x = self.dropout(x)  # Dropout 적용\n",
        "        x = torch.relu(self.fc2(x))\n",
        "        x = self.fc3(x)\n",
        "        return x\n",
        "\n",
        "# 모델 초기화\n",
        "model = DeeperCNN().cuda()"
      ],
      "metadata": {
        "id": "xkEiyh8tuE9F"
      },
      "execution_count": 27,
      "outputs": []
    },
    {
      "cell_type": "code",
      "source": [
        "# 손실 함수 및 옵티마이저 정의"
      ],
      "metadata": {
        "id": "h3pXEGA4uYRo"
      },
      "execution_count": 28,
      "outputs": []
    },
    {
      "cell_type": "code",
      "source": [
        "criterion=nn.CrossEntropyLoss().cuda()\n",
        "optimizer=optim.Adam(model.parameters(),lr=0.001) # Adam 옵티마이저"
      ],
      "metadata": {
        "id": "FCEW0v_5uaqz"
      },
      "execution_count": 29,
      "outputs": []
    },
    {
      "cell_type": "code",
      "source": [
        "# 모델 학습"
      ],
      "metadata": {
        "id": "hHAiSXZiuioC"
      },
      "execution_count": 30,
      "outputs": []
    },
    {
      "cell_type": "code",
      "source": [
        "for epoch in range(10):\n",
        "  running_loss=0.0\n",
        "  for i, data in enumerate(trainloader,0):\n",
        "    inputs,labels=data\n",
        "    inputs=inputs.cuda()\n",
        "    labels=labels.cuda()\n",
        "\n",
        "    optimizer.zero_grad() # 옵티마이저 초기화\n",
        "    outputs=model(inputs) # 순전파\n",
        "    loss=criterion(outputs,labels) # 손실 계산\n",
        "    loss.backward() # 역전파\n",
        "    optimizer.step() # 최적화\n",
        "\n",
        "    running_loss+=loss.item()\n",
        "    if i%100==99:\n",
        "      print(f'Epoch {epoch+1}, Batch {i+1}, Loss: {running_loss/100:.3f}')\n",
        "      running_loss=0.0\n",
        "\n",
        "print('Finished Training')"
      ],
      "metadata": {
        "colab": {
          "base_uri": "https://localhost:8080/"
        },
        "id": "L1lNZlZwukIH",
        "outputId": "c6b83f38-5b6e-4182-df8b-31bf9c7f43f2"
      },
      "execution_count": 31,
      "outputs": [
        {
          "output_type": "stream",
          "name": "stdout",
          "text": [
            "Epoch 1, Batch 100, Loss: 2.189\n",
            "Epoch 1, Batch 200, Loss: 1.962\n",
            "Epoch 1, Batch 300, Loss: 1.831\n",
            "Epoch 1, Batch 400, Loss: 1.762\n",
            "Epoch 1, Batch 500, Loss: 1.649\n",
            "Epoch 1, Batch 600, Loss: 1.621\n",
            "Epoch 1, Batch 700, Loss: 1.496\n",
            "Epoch 1, Batch 800, Loss: 1.534\n",
            "Epoch 1, Batch 900, Loss: 1.421\n",
            "Epoch 1, Batch 1000, Loss: 1.385\n",
            "Epoch 1, Batch 1100, Loss: 1.349\n",
            "Epoch 1, Batch 1200, Loss: 1.288\n",
            "Epoch 1, Batch 1300, Loss: 1.280\n",
            "Epoch 1, Batch 1400, Loss: 1.244\n",
            "Epoch 1, Batch 1500, Loss: 1.226\n",
            "Epoch 2, Batch 100, Loss: 1.127\n",
            "Epoch 2, Batch 200, Loss: 1.084\n",
            "Epoch 2, Batch 300, Loss: 1.073\n",
            "Epoch 2, Batch 400, Loss: 1.063\n",
            "Epoch 2, Batch 500, Loss: 1.052\n",
            "Epoch 2, Batch 600, Loss: 1.016\n",
            "Epoch 2, Batch 700, Loss: 1.010\n",
            "Epoch 2, Batch 800, Loss: 1.014\n",
            "Epoch 2, Batch 900, Loss: 0.990\n",
            "Epoch 2, Batch 1000, Loss: 0.994\n",
            "Epoch 2, Batch 1100, Loss: 0.954\n",
            "Epoch 2, Batch 1200, Loss: 0.990\n",
            "Epoch 2, Batch 1300, Loss: 0.944\n",
            "Epoch 2, Batch 1400, Loss: 0.898\n",
            "Epoch 2, Batch 1500, Loss: 0.905\n",
            "Epoch 3, Batch 100, Loss: 0.805\n",
            "Epoch 3, Batch 200, Loss: 0.820\n",
            "Epoch 3, Batch 300, Loss: 0.803\n",
            "Epoch 3, Batch 400, Loss: 0.830\n",
            "Epoch 3, Batch 500, Loss: 0.841\n",
            "Epoch 3, Batch 600, Loss: 0.803\n",
            "Epoch 3, Batch 700, Loss: 0.771\n",
            "Epoch 3, Batch 800, Loss: 0.794\n",
            "Epoch 3, Batch 900, Loss: 0.800\n",
            "Epoch 3, Batch 1000, Loss: 0.762\n",
            "Epoch 3, Batch 1100, Loss: 0.810\n",
            "Epoch 3, Batch 1200, Loss: 0.773\n",
            "Epoch 3, Batch 1300, Loss: 0.752\n",
            "Epoch 3, Batch 1400, Loss: 0.745\n",
            "Epoch 3, Batch 1500, Loss: 0.735\n",
            "Epoch 4, Batch 100, Loss: 0.625\n",
            "Epoch 4, Batch 200, Loss: 0.662\n",
            "Epoch 4, Batch 300, Loss: 0.641\n",
            "Epoch 4, Batch 400, Loss: 0.629\n",
            "Epoch 4, Batch 500, Loss: 0.642\n",
            "Epoch 4, Batch 600, Loss: 0.654\n",
            "Epoch 4, Batch 700, Loss: 0.655\n",
            "Epoch 4, Batch 800, Loss: 0.664\n",
            "Epoch 4, Batch 900, Loss: 0.654\n",
            "Epoch 4, Batch 1000, Loss: 0.649\n",
            "Epoch 4, Batch 1100, Loss: 0.661\n",
            "Epoch 4, Batch 1200, Loss: 0.643\n",
            "Epoch 4, Batch 1300, Loss: 0.684\n",
            "Epoch 4, Batch 1400, Loss: 0.623\n",
            "Epoch 4, Batch 1500, Loss: 0.626\n",
            "Epoch 5, Batch 100, Loss: 0.534\n",
            "Epoch 5, Batch 200, Loss: 0.532\n",
            "Epoch 5, Batch 300, Loss: 0.526\n",
            "Epoch 5, Batch 400, Loss: 0.522\n",
            "Epoch 5, Batch 500, Loss: 0.549\n",
            "Epoch 5, Batch 600, Loss: 0.550\n",
            "Epoch 5, Batch 700, Loss: 0.554\n",
            "Epoch 5, Batch 800, Loss: 0.525\n",
            "Epoch 5, Batch 900, Loss: 0.529\n",
            "Epoch 5, Batch 1000, Loss: 0.535\n",
            "Epoch 5, Batch 1100, Loss: 0.555\n",
            "Epoch 5, Batch 1200, Loss: 0.572\n",
            "Epoch 5, Batch 1300, Loss: 0.544\n",
            "Epoch 5, Batch 1400, Loss: 0.568\n",
            "Epoch 5, Batch 1500, Loss: 0.571\n",
            "Epoch 6, Batch 100, Loss: 0.436\n",
            "Epoch 6, Batch 200, Loss: 0.409\n",
            "Epoch 6, Batch 300, Loss: 0.402\n",
            "Epoch 6, Batch 400, Loss: 0.443\n",
            "Epoch 6, Batch 500, Loss: 0.451\n",
            "Epoch 6, Batch 600, Loss: 0.442\n",
            "Epoch 6, Batch 700, Loss: 0.428\n",
            "Epoch 6, Batch 800, Loss: 0.470\n",
            "Epoch 6, Batch 900, Loss: 0.503\n",
            "Epoch 6, Batch 1000, Loss: 0.477\n",
            "Epoch 6, Batch 1100, Loss: 0.449\n",
            "Epoch 6, Batch 1200, Loss: 0.472\n",
            "Epoch 6, Batch 1300, Loss: 0.517\n",
            "Epoch 6, Batch 1400, Loss: 0.506\n",
            "Epoch 6, Batch 1500, Loss: 0.478\n",
            "Epoch 7, Batch 100, Loss: 0.320\n",
            "Epoch 7, Batch 200, Loss: 0.334\n",
            "Epoch 7, Batch 300, Loss: 0.376\n",
            "Epoch 7, Batch 400, Loss: 0.368\n",
            "Epoch 7, Batch 500, Loss: 0.379\n",
            "Epoch 7, Batch 600, Loss: 0.373\n",
            "Epoch 7, Batch 700, Loss: 0.383\n",
            "Epoch 7, Batch 800, Loss: 0.385\n",
            "Epoch 7, Batch 900, Loss: 0.431\n",
            "Epoch 7, Batch 1000, Loss: 0.362\n",
            "Epoch 7, Batch 1100, Loss: 0.393\n",
            "Epoch 7, Batch 1200, Loss: 0.432\n",
            "Epoch 7, Batch 1300, Loss: 0.393\n",
            "Epoch 7, Batch 1400, Loss: 0.403\n",
            "Epoch 7, Batch 1500, Loss: 0.427\n",
            "Epoch 8, Batch 100, Loss: 0.250\n",
            "Epoch 8, Batch 200, Loss: 0.303\n",
            "Epoch 8, Batch 300, Loss: 0.325\n",
            "Epoch 8, Batch 400, Loss: 0.326\n",
            "Epoch 8, Batch 500, Loss: 0.320\n",
            "Epoch 8, Batch 600, Loss: 0.309\n",
            "Epoch 8, Batch 700, Loss: 0.359\n",
            "Epoch 8, Batch 800, Loss: 0.344\n",
            "Epoch 8, Batch 900, Loss: 0.358\n",
            "Epoch 8, Batch 1000, Loss: 0.348\n",
            "Epoch 8, Batch 1100, Loss: 0.328\n",
            "Epoch 8, Batch 1200, Loss: 0.376\n",
            "Epoch 8, Batch 1300, Loss: 0.392\n",
            "Epoch 8, Batch 1400, Loss: 0.328\n",
            "Epoch 8, Batch 1500, Loss: 0.360\n",
            "Epoch 9, Batch 100, Loss: 0.244\n",
            "Epoch 9, Batch 200, Loss: 0.242\n",
            "Epoch 9, Batch 300, Loss: 0.265\n",
            "Epoch 9, Batch 400, Loss: 0.258\n",
            "Epoch 9, Batch 500, Loss: 0.279\n",
            "Epoch 9, Batch 600, Loss: 0.284\n",
            "Epoch 9, Batch 700, Loss: 0.278\n",
            "Epoch 9, Batch 800, Loss: 0.302\n",
            "Epoch 9, Batch 900, Loss: 0.311\n",
            "Epoch 9, Batch 1000, Loss: 0.282\n",
            "Epoch 9, Batch 1100, Loss: 0.300\n",
            "Epoch 9, Batch 1200, Loss: 0.356\n",
            "Epoch 9, Batch 1300, Loss: 0.309\n",
            "Epoch 9, Batch 1400, Loss: 0.314\n",
            "Epoch 9, Batch 1500, Loss: 0.307\n",
            "Epoch 10, Batch 100, Loss: 0.200\n",
            "Epoch 10, Batch 200, Loss: 0.180\n",
            "Epoch 10, Batch 300, Loss: 0.222\n",
            "Epoch 10, Batch 400, Loss: 0.215\n",
            "Epoch 10, Batch 500, Loss: 0.233\n",
            "Epoch 10, Batch 600, Loss: 0.258\n",
            "Epoch 10, Batch 700, Loss: 0.253\n",
            "Epoch 10, Batch 800, Loss: 0.292\n",
            "Epoch 10, Batch 900, Loss: 0.273\n",
            "Epoch 10, Batch 1000, Loss: 0.289\n",
            "Epoch 10, Batch 1100, Loss: 0.276\n",
            "Epoch 10, Batch 1200, Loss: 0.277\n",
            "Epoch 10, Batch 1300, Loss: 0.273\n",
            "Epoch 10, Batch 1400, Loss: 0.263\n",
            "Epoch 10, Batch 1500, Loss: 0.287\n",
            "Finished Training\n"
          ]
        }
      ]
    },
    {
      "cell_type": "code",
      "source": [
        "correct=0\n",
        "total=0\n",
        "model.eval() # 평가 모드 전환\n",
        "\n",
        "with torch.no_grad():\n",
        "  for data in testloader:\n",
        "    images,labels=data\n",
        "    images=images.cuda()\n",
        "    labels=labels.cuda()\n",
        "    outputs=model(images)\n",
        "    _,predicted=torch.max(outputs,1)\n",
        "    total+=labels.size(0)\n",
        "    correct+=(predicted==labels).sum().item()\n",
        "\n",
        "print(f'Accuracy of the test dataset: {100*correct/total:.2f}%')\n"
      ],
      "metadata": {
        "colab": {
          "base_uri": "https://localhost:8080/"
        },
        "id": "t-pD9i9Gu6qG",
        "outputId": "d0dab9cc-2ff9-41a4-a624-bdf4d53d2e08"
      },
      "execution_count": 32,
      "outputs": [
        {
          "output_type": "stream",
          "name": "stdout",
          "text": [
            "Accuracy of the test dataset: 75.92%\n"
          ]
        }
      ]
    },
    {
      "cell_type": "code",
      "source": [
        "import matplotlib.pyplot as plt\n",
        "import numpy as np\n",
        "\n",
        "def imshow(img):\n",
        "  img=img/2+0.5 # 정규화 해제\n",
        "  npimg=img.numpy()\n",
        "  plt.imshow(np.transpose(npimg,(1,2,0)))\n",
        "  plt.show()\n",
        "\n",
        "# 테스트 데이터에서 몇 개의 이미지 출력 및 예측\n",
        "dataiter=iter(testloader)\n",
        "images,labels=next(dataiter)\n",
        "\n",
        "# 이미지 출력\n",
        "imshow(torchvision.utils.make_grid(images[:4])) # 4개 이미지 출력\n",
        "print('GroundTruth: ',' '.join(f'{classes[labels[j]]}' for j in range(4)))\n",
        "\n",
        "# 예측 결과 출력\n",
        "images=images.cuda()\n",
        "outputs=model(images[:4])\n",
        "_,predicted=torch.max(outputs,1)\n",
        "print('Predicted: ',' '.join(f'{classes[predicted[j]]}' for j in range(4)))"
      ],
      "metadata": {
        "colab": {
          "base_uri": "https://localhost:8080/",
          "height": 229
        },
        "id": "RbMKx6B1wYaV",
        "outputId": "293d4caa-984b-4d60-9d33-ae207ebd1093"
      },
      "execution_count": 33,
      "outputs": [
        {
          "output_type": "display_data",
          "data": {
            "text/plain": [
              "<Figure size 640x480 with 1 Axes>"
            ],
            "image/png": "[encoded data removed]"
          },
          "metadata": {}
        },
        {
          "output_type": "stream",
          "name": "stdout",
          "text": [
            "GroundTruth:  cat ship ship plane\n",
            "Predicted:  cat ship plane plane\n"
          ]
        }
      ]
    },
    {
      "cell_type": "code",
      "source": [
        "# 필터 개수와 뉴런 수를 증가한 CNN 코드"
      ],
      "metadata": {
        "id": "FJK_HeVuw_cy"
      },
      "execution_count": 34,
      "outputs": []
    },
    {
      "cell_type": "code",
      "source": [
        "import torch\n",
        "import torch.nn as nn\n",
        "\n",
        "class EnhancedCNN(nn.Module):\n",
        "    def __init__(self):\n",
        "        super(EnhancedCNN,self).__init__()\n",
        "\n",
        "        # 첫 번째 합성곱 블록: 필터 수 증가(3채널 입력, 32채널 출력)\n",
        "        self.conv1=nn.Conv2d(3,32,3,padding=1)\n",
        "\n",
        "        # 두 번째 합성곱 블록: 더 많은 필터(32채널 입력, 64채널 출력)\n",
        "        self.conv2=nn.Conv2d(32,64,3,padding=1)\n",
        "\n",
        "        # 세 번째 합성곱 블록: 더 많은 필터(64채널 입력, 128채널 출력)\n",
        "        self.conv3=nn.Conv2d(64,128,3,padding=1)\n",
        "\n",
        "        # Max Pooling Lyaer\n",
        "        self.pool=nn.MaxPool2d(2,2)\n",
        "\n",
        "        # Fully Connected Layer: 더 많은 뉴런 사용(Flatten 후)\n",
        "        self.fc1=nn.Linear(128*4*4,256) # 뉴런 수 256개로 증가\n",
        "        self.fc2=nn.Linear(256,128) # 중간 계층 추가(뉴런 수 128)\n",
        "        self.fc3=nn.Linear(128,10) # 최종 출력(10개 클래스)\n",
        "\n",
        "        # 드롭아웃 추가(과적합 방지)\n",
        "        #self.dropout=nn.Dropout(0.5)\n",
        "\n",
        "    def forward(self,x):\n",
        "        # 첫 번째 합성곱 블록\n",
        "        x = self.pool(torch.relu(self.conv1(x)))\n",
        "\n",
        "        # 두 번째 합성곱 블록\n",
        "        x = self.pool(torch.relu(self.conv2(x)))\n",
        "\n",
        "        # 세 번째 합성곱 블록\n",
        "        x = self.pool(torch.relu(self.conv3(x)))\n",
        "\n",
        "        # Flatten\n",
        "        x = x.view(-1,128*4*4)\n",
        "\n",
        "        # Fully Connected Layers\n",
        "        x = torch.relu(self.fc1(x))\n",
        "        #x = self.dropout(x) # Dropout 적용\n",
        "        x=torch.relu(self.fc2(x))\n",
        "        x=self.fc3(x)\n",
        "        return x\n",
        "\n",
        "# 모델 초기화\n",
        "model=EnhancedCNN().cuda()\n",
        "\n",
        "# 모델 구조 출력\n",
        "print(model)"
      ],
      "metadata": {
        "colab": {
          "base_uri": "https://localhost:8080/"
        },
        "id": "KsOHAdRLxr6J",
        "outputId": "cb5fe495-b4f3-4e47-e5a3-4e26d3979344"
      },
      "execution_count": 36,
      "outputs": [
        {
          "output_type": "stream",
          "name": "stdout",
          "text": [
            "EnhancedCNN(\n",
            "  (conv1): Conv2d(3, 32, kernel_size=(3, 3), stride=(1, 1), padding=(1, 1))\n",
            "  (conv2): Conv2d(32, 64, kernel_size=(3, 3), stride=(1, 1), padding=(1, 1))\n",
            "  (conv3): Conv2d(64, 128, kernel_size=(3, 3), stride=(1, 1), padding=(1, 1))\n",
            "  (pool): MaxPool2d(kernel_size=2, stride=2, padding=0, dilation=1, ceil_mode=False)\n",
            "  (fc1): Linear(in_features=2048, out_features=256, bias=True)\n",
            "  (fc2): Linear(in_features=256, out_features=128, bias=True)\n",
            "  (fc3): Linear(in_features=128, out_features=10, bias=True)\n",
            ")\n"
          ]
        }
      ]
    },
    {
      "cell_type": "code",
      "source": [
        "# 손실 함수 및 옵티마이저 정의"
      ],
      "metadata": {
        "id": "7NQFYaj_zR4x"
      },
      "execution_count": 37,
      "outputs": []
    },
    {
      "cell_type": "code",
      "source": [
        "import torch.optim as optim\n",
        "\n",
        "# 손실 함수: CrossEntropyLoss\n",
        "criterion=nn.CrossEntropyLoss()\n",
        "\n",
        "# 옵티마이저: Adam(학습률 0.001)\n",
        "optimizer = optim.Adam(model.parameters(), lr=0.001)"
      ],
      "metadata": {
        "id": "0zwPtHpaztLh"
      },
      "execution_count": 38,
      "outputs": []
    },
    {
      "cell_type": "code",
      "source": [
        "# 모델 학습"
      ],
      "metadata": {
        "id": "yuM7lpk3z6t5"
      },
      "execution_count": 39,
      "outputs": []
    },
    {
      "cell_type": "code",
      "source": [
        "from subprocess import run\n",
        "for epoch in range(10):\n",
        "  running_loss=0.0\n",
        "  for i, data in enumerate(trainloader,0):\n",
        "    inputs,labels=data\n",
        "    inputs=inputs.cuda()\n",
        "    labels=labels.cuda()\n",
        "\n",
        "    optimizer.zero_grad() # 옵티마이저 초기화\n",
        "    outputs=model(inputs) # 순전파\n",
        "    loss=criterion(outputs,labels) # 손실 계산\n",
        "    loss.backward() # 역전파\n",
        "    optimizer.step() # 최적화\n",
        "\n",
        "    running_loss+=loss.item()\n",
        "    if i%100==99:\n",
        "      print(f'Epoch {epoch+1}, Batch {i+1}, Loss: {running_loss/100:.3f}')\n",
        "      running_loss=0.0\n",
        "\n",
        "print('Finished Training')"
      ],
      "metadata": {
        "colab": {
          "base_uri": "https://localhost:8080/"
        },
        "id": "lwtoMiqkz8JX",
        "outputId": "56d59b62-aa9f-441b-f965-21240b50ac97"
      },
      "execution_count": 41,
      "outputs": [
        {
          "output_type": "stream",
          "name": "stdout",
          "text": [
            "Epoch 1, Batch 100, Loss: 2.061\n",
            "Epoch 1, Batch 200, Loss: 1.771\n",
            "Epoch 1, Batch 300, Loss: 1.623\n",
            "Epoch 1, Batch 400, Loss: 1.526\n",
            "Epoch 1, Batch 500, Loss: 1.481\n",
            "Epoch 1, Batch 600, Loss: 1.394\n",
            "Epoch 1, Batch 700, Loss: 1.360\n",
            "Epoch 1, Batch 800, Loss: 1.334\n",
            "Epoch 1, Batch 900, Loss: 1.266\n",
            "Epoch 1, Batch 1000, Loss: 1.237\n",
            "Epoch 1, Batch 1100, Loss: 1.186\n",
            "Epoch 1, Batch 1200, Loss: 1.164\n",
            "Epoch 1, Batch 1300, Loss: 1.156\n",
            "Epoch 1, Batch 1400, Loss: 1.108\n",
            "Epoch 1, Batch 1500, Loss: 1.147\n",
            "Epoch 2, Batch 100, Loss: 1.015\n",
            "Epoch 2, Batch 200, Loss: 1.013\n",
            "Epoch 2, Batch 300, Loss: 1.001\n",
            "Epoch 2, Batch 400, Loss: 0.978\n",
            "Epoch 2, Batch 500, Loss: 0.965\n",
            "Epoch 2, Batch 600, Loss: 0.945\n",
            "Epoch 2, Batch 700, Loss: 0.969\n",
            "Epoch 2, Batch 800, Loss: 0.917\n",
            "Epoch 2, Batch 900, Loss: 0.874\n",
            "Epoch 2, Batch 1000, Loss: 0.918\n",
            "Epoch 2, Batch 1100, Loss: 0.886\n",
            "Epoch 2, Batch 1200, Loss: 0.884\n",
            "Epoch 2, Batch 1300, Loss: 0.857\n",
            "Epoch 2, Batch 1400, Loss: 0.860\n",
            "Epoch 2, Batch 1500, Loss: 0.814\n",
            "Epoch 3, Batch 100, Loss: 0.728\n",
            "Epoch 3, Batch 200, Loss: 0.740\n",
            "Epoch 3, Batch 300, Loss: 0.737\n",
            "Epoch 3, Batch 400, Loss: 0.759\n",
            "Epoch 3, Batch 500, Loss: 0.745\n",
            "Epoch 3, Batch 600, Loss: 0.708\n",
            "Epoch 3, Batch 700, Loss: 0.723\n",
            "Epoch 3, Batch 800, Loss: 0.744\n",
            "Epoch 3, Batch 900, Loss: 0.718\n",
            "Epoch 3, Batch 1000, Loss: 0.699\n",
            "Epoch 3, Batch 1100, Loss: 0.720\n",
            "Epoch 3, Batch 1200, Loss: 0.719\n",
            "Epoch 3, Batch 1300, Loss: 0.734\n",
            "Epoch 3, Batch 1400, Loss: 0.718\n",
            "Epoch 3, Batch 1500, Loss: 0.706\n",
            "Epoch 4, Batch 100, Loss: 0.560\n",
            "Epoch 4, Batch 200, Loss: 0.570\n",
            "Epoch 4, Batch 300, Loss: 0.571\n",
            "Epoch 4, Batch 400, Loss: 0.564\n",
            "Epoch 4, Batch 500, Loss: 0.574\n",
            "Epoch 4, Batch 600, Loss: 0.585\n",
            "Epoch 4, Batch 700, Loss: 0.583\n",
            "Epoch 4, Batch 800, Loss: 0.608\n",
            "Epoch 4, Batch 900, Loss: 0.604\n",
            "Epoch 4, Batch 1000, Loss: 0.600\n",
            "Epoch 4, Batch 1100, Loss: 0.623\n",
            "Epoch 4, Batch 1200, Loss: 0.593\n",
            "Epoch 4, Batch 1300, Loss: 0.597\n",
            "Epoch 4, Batch 1400, Loss: 0.604\n",
            "Epoch 4, Batch 1500, Loss: 0.604\n",
            "Epoch 5, Batch 100, Loss: 0.471\n",
            "Epoch 5, Batch 200, Loss: 0.448\n",
            "Epoch 5, Batch 300, Loss: 0.468\n",
            "Epoch 5, Batch 400, Loss: 0.459\n",
            "Epoch 5, Batch 500, Loss: 0.484\n",
            "Epoch 5, Batch 600, Loss: 0.497\n",
            "Epoch 5, Batch 700, Loss: 0.462\n",
            "Epoch 5, Batch 800, Loss: 0.468\n",
            "Epoch 5, Batch 900, Loss: 0.504\n",
            "Epoch 5, Batch 1000, Loss: 0.511\n",
            "Epoch 5, Batch 1100, Loss: 0.503\n",
            "Epoch 5, Batch 1200, Loss: 0.504\n",
            "Epoch 5, Batch 1300, Loss: 0.500\n",
            "Epoch 5, Batch 1400, Loss: 0.519\n",
            "Epoch 5, Batch 1500, Loss: 0.515\n",
            "Epoch 6, Batch 100, Loss: 0.366\n",
            "Epoch 6, Batch 200, Loss: 0.356\n",
            "Epoch 6, Batch 300, Loss: 0.363\n",
            "Epoch 6, Batch 400, Loss: 0.391\n",
            "Epoch 6, Batch 500, Loss: 0.381\n",
            "Epoch 6, Batch 600, Loss: 0.391\n",
            "Epoch 6, Batch 700, Loss: 0.413\n",
            "Epoch 6, Batch 800, Loss: 0.403\n",
            "Epoch 6, Batch 900, Loss: 0.425\n",
            "Epoch 6, Batch 1000, Loss: 0.402\n",
            "Epoch 6, Batch 1100, Loss: 0.432\n",
            "Epoch 6, Batch 1200, Loss: 0.389\n",
            "Epoch 6, Batch 1300, Loss: 0.409\n",
            "Epoch 6, Batch 1400, Loss: 0.465\n",
            "Epoch 6, Batch 1500, Loss: 0.436\n",
            "Epoch 7, Batch 100, Loss: 0.277\n",
            "Epoch 7, Batch 200, Loss: 0.277\n",
            "Epoch 7, Batch 300, Loss: 0.286\n",
            "Epoch 7, Batch 400, Loss: 0.318\n",
            "Epoch 7, Batch 500, Loss: 0.307\n",
            "Epoch 7, Batch 600, Loss: 0.316\n",
            "Epoch 7, Batch 700, Loss: 0.305\n",
            "Epoch 7, Batch 800, Loss: 0.334\n",
            "Epoch 7, Batch 900, Loss: 0.355\n",
            "Epoch 7, Batch 1000, Loss: 0.339\n",
            "Epoch 7, Batch 1100, Loss: 0.333\n",
            "Epoch 7, Batch 1200, Loss: 0.326\n",
            "Epoch 7, Batch 1300, Loss: 0.355\n",
            "Epoch 7, Batch 1400, Loss: 0.364\n",
            "Epoch 7, Batch 1500, Loss: 0.383\n",
            "Epoch 8, Batch 100, Loss: 0.184\n",
            "Epoch 8, Batch 200, Loss: 0.211\n",
            "Epoch 8, Batch 300, Loss: 0.235\n",
            "Epoch 8, Batch 400, Loss: 0.225\n",
            "Epoch 8, Batch 500, Loss: 0.247\n",
            "Epoch 8, Batch 600, Loss: 0.269\n",
            "Epoch 8, Batch 700, Loss: 0.238\n",
            "Epoch 8, Batch 800, Loss: 0.280\n",
            "Epoch 8, Batch 900, Loss: 0.262\n",
            "Epoch 8, Batch 1000, Loss: 0.301\n",
            "Epoch 8, Batch 1100, Loss: 0.305\n",
            "Epoch 8, Batch 1200, Loss: 0.296\n",
            "Epoch 8, Batch 1300, Loss: 0.304\n",
            "Epoch 8, Batch 1400, Loss: 0.317\n",
            "Epoch 8, Batch 1500, Loss: 0.302\n",
            "Epoch 9, Batch 100, Loss: 0.169\n",
            "Epoch 9, Batch 200, Loss: 0.189\n",
            "Epoch 9, Batch 300, Loss: 0.180\n",
            "Epoch 9, Batch 400, Loss: 0.194\n",
            "Epoch 9, Batch 500, Loss: 0.199\n",
            "Epoch 9, Batch 600, Loss: 0.215\n",
            "Epoch 9, Batch 700, Loss: 0.236\n",
            "Epoch 9, Batch 800, Loss: 0.223\n",
            "Epoch 9, Batch 900, Loss: 0.226\n",
            "Epoch 9, Batch 1000, Loss: 0.240\n",
            "Epoch 9, Batch 1100, Loss: 0.222\n",
            "Epoch 9, Batch 1200, Loss: 0.239\n",
            "Epoch 9, Batch 1300, Loss: 0.238\n",
            "Epoch 9, Batch 1400, Loss: 0.233\n",
            "Epoch 9, Batch 1500, Loss: 0.262\n",
            "Epoch 10, Batch 100, Loss: 0.142\n",
            "Epoch 10, Batch 200, Loss: 0.182\n",
            "Epoch 10, Batch 300, Loss: 0.160\n",
            "Epoch 10, Batch 400, Loss: 0.157\n",
            "Epoch 10, Batch 500, Loss: 0.164\n",
            "Epoch 10, Batch 600, Loss: 0.160\n",
            "Epoch 10, Batch 700, Loss: 0.202\n",
            "Epoch 10, Batch 800, Loss: 0.187\n",
            "Epoch 10, Batch 900, Loss: 0.241\n",
            "Epoch 10, Batch 1000, Loss: 0.190\n",
            "Epoch 10, Batch 1100, Loss: 0.230\n",
            "Epoch 10, Batch 1200, Loss: 0.214\n",
            "Epoch 10, Batch 1300, Loss: 0.211\n",
            "Epoch 10, Batch 1400, Loss: 0.219\n",
            "Epoch 10, Batch 1500, Loss: 0.198\n",
            "Finished Training\n"
          ]
        }
      ]
    },
    {
      "cell_type": "code",
      "source": [
        "correct=0.0\n",
        "total=0\n",
        "model.eval() # 평가 모드 전환\n",
        "\n",
        "with torch.no_grad(): # Gradient 계산 비활성화\n",
        "  for data in testloader:\n",
        "    images,labels=data\n",
        "    images=images.cuda()\n",
        "    labels=labels.cuda()\n",
        "    outputs=model(images)\n",
        "    _,predicted=torch.max(outputs,1)\n",
        "    total+=labels.size(0)\n",
        "    correct+=(predicted==labels).sum().item()\n",
        "\n",
        "print(f'Accuracy of the test dataset: {100*correct/total:.2f}%')"
      ],
      "metadata": {
        "colab": {
          "base_uri": "https://localhost:8080/"
        },
        "id": "0hPp2H620Uv_",
        "outputId": "1c0a034b-8ba3-4dac-f59c-9009b92aa565"
      },
      "execution_count": 42,
      "outputs": [
        {
          "output_type": "stream",
          "name": "stdout",
          "text": [
            "Accuracy of the test dataset: 74.80%\n"
          ]
        }
      ]
    },
    {
      "cell_type": "code",
      "source": [
        "import matplotlib.pyplot as plt\n",
        "import numpy as np\n",
        "\n",
        "def imshow(img):\n",
        "  img=img/2+0.5 # 정규화 해제\n",
        "  npimg=img.numpy()\n",
        "  plt.imshow(np.transpose(npimg,(1,2,0)))\n",
        "  plt.show()\n",
        "\n",
        "# 테스트 데이터에서 몇 개의 이미지 출력 및 예측\n",
        "dataiter=iter(testloader)\n",
        "images, labels=next(dataiter)\n",
        "\n",
        "# 이미지 출력\n",
        "imshow(torchvision.utils.make_grid(images[:4])) # 4개 이미지 출력\n",
        "print('GroundTruth: ',' '.join(f'{classes[labels[j]]}' for j in range(4)))\n",
        "\n",
        "# 예측 결과 출력\n",
        "images=images.cuda()\n",
        "outputs=model(images[:4])\n",
        "_,predicted=torch.max(outputs,1)\n",
        "print('Predicted: ',' '.join(f'{classes[predicted[j]]}' for j in range(4)))"
      ],
      "metadata": {
        "colab": {
          "base_uri": "https://localhost:8080/",
          "height": 229
        },
        "id": "ogYigTpW16up",
        "outputId": "ff305b2a-337f-4a72-9a2f-7ad119ed4af5"
      },
      "execution_count": 43,
      "outputs": [
        {
          "output_type": "display_data",
          "data": {
            "text/plain": [
              "<Figure size 640x480 with 1 Axes>"
            ],
            "image/png": "[encoded data removed]"
          },
          "metadata": {}
        },
        {
          "output_type": "stream",
          "name": "stdout",
          "text": [
            "GroundTruth:  cat ship ship plane\n",
            "Predicted:  cat ship ship plane\n"
          ]
        }
      ]
    },
    {
      "cell_type": "code",
      "source": [],
      "metadata": {
        "id": "zeE4MYYG2Ysg"
      },
      "execution_count": null,
      "outputs": []
    }
  ]
}